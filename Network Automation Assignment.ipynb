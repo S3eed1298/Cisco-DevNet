{
 "cells": [
  {
   "cell_type": "markdown",
   "metadata": {},
   "source": [
    "# Network Automation Homework - Saeed Ba Hakim\n",
    "### There're 2 tasks for homework to be done inside Jupyter Notebook:\n",
    "1.\tConfigure chosen feature of CSR router using NETCONF (ncclient) e.g. VLAN, CDP, OSPF etc. - up to you.\n",
    "<br>\n",
    "<br>\n",
    "2.\tVerify configuration of this feature by using RESTCONF (requests)."
   ]
  },
  {
   "cell_type": "markdown",
   "metadata": {},
   "source": [
    "## Task 1:\n",
    "\n",
    "### Step 1: Import required Python modules"
   ]
  },
  {
   "cell_type": "code",
   "execution_count": 83,
   "metadata": {},
   "outputs": [],
   "source": [
    "import ncclient.manager\n",
    "from ncclient.operations import TimeoutExpiredError"
   ]
  },
  {
   "cell_type": "markdown",
   "metadata": {},
   "source": [
    "### Step 2: Connecting to the router"
   ]
  },
  {
   "cell_type": "code",
   "execution_count": 84,
   "metadata": {},
   "outputs": [
    {
     "name": "stdout",
     "output_type": "stream",
     "text": [
      "Connected to the device!\n"
     ]
    }
   ],
   "source": [
    "try:\n",
    "    device_connection = ncclient.manager.connect(\n",
    "        host = '10.10.20.48',\n",
    "        username = 'developer',\n",
    "        password = 'C1sco12345',\n",
    "        port = '830',\n",
    "        device_params = {'name':\"csr\"}\n",
    "    )\n",
    "    print(\"Connected to the device!\")\n",
    "except:\n",
    "    print(\"Failure...\")"
   ]
  },
  {
   "cell_type": "markdown",
   "metadata": {},
   "source": [
    "### Step 3: Writing the Yang RPC for the desired feature (here I configured the second interface and assigned an IP address to it)"
   ]
  },
  {
   "cell_type": "code",
   "execution_count": 85,
   "metadata": {},
   "outputs": [],
   "source": [
    "# NETCONF configuration payload for VLAN\n",
    "yang_models = f'''\n",
    "<config xmlns=\"urn:ietf:params:xml:ns:netconf:base:1.0\">\n",
    "    <interfaces xmlns=\"urn:ietf:params:xml:ns:yang:ietf-interfaces\">\n",
    "        <interface>\n",
    "            <name>GigabitEthernet2</name>\n",
    "            <enabled>true</enabled>\n",
    "            <ipv4 xmlns=\"urn:ietf:params:xml:ns:yang:ietf-ip\">\n",
    "                <address>\n",
    "                    <ip>10.30.30.10</ip>\n",
    "                    <netmask>255.255.255.0</netmask>\n",
    "                </address>\n",
    "            </ipv4>\n",
    "        </interface>\n",
    "    </interfaces>\n",
    "</config>\n",
    "'''"
   ]
  },
  {
   "cell_type": "markdown",
   "metadata": {},
   "source": [
    "### Step 3: Execute the RPC using the edit_config operation"
   ]
  },
  {
   "cell_type": "code",
   "execution_count": 86,
   "metadata": {},
   "outputs": [],
   "source": [
    "netconf_output = device_connection.edit_config(target='running', config=yang_models)"
   ]
  },
  {
   "cell_type": "markdown",
   "metadata": {},
   "source": [
    "## Task 2: Verifying the changes using RESTCONF\n",
    "\n",
    "### Step 1: Import required Python modules"
   ]
  },
  {
   "cell_type": "code",
   "execution_count": 92,
   "metadata": {},
   "outputs": [],
   "source": [
    "import requests"
   ]
  },
  {
   "cell_type": "markdown",
   "metadata": {},
   "source": [
    "### Step 2: We specify the **URI** to which we want to send a HTTP request"
   ]
  },
  {
   "cell_type": "code",
   "execution_count": 93,
   "metadata": {},
   "outputs": [],
   "source": [
    "url = \"https://10.10.20.48:443/restconf/data/ietf-interfaces:interfaces/interface/\"\n"
   ]
  },
  {
   "cell_type": "markdown",
   "metadata": {},
   "source": [
    "### Step 3: We specify **headers** with the type of data that we're sending and accepting in response"
   ]
  },
  {
   "cell_type": "code",
   "execution_count": 94,
   "metadata": {},
   "outputs": [],
   "source": [
    "headers = {'Content-Type': 'application/yang-data+json',\n",
    "            'Accept': 'application/yang-data+json'} "
   ]
  },
  {
   "cell_type": "markdown",
   "metadata": {},
   "source": [
    "### Step 3: We send the request to get specific resources and the server is responding to us with the data"
   ]
  },
  {
   "cell_type": "code",
   "execution_count": 95,
   "metadata": {},
   "outputs": [
    {
     "name": "stderr",
     "output_type": "stream",
     "text": [
      "c:\\Users\\s3eed\\AppData\\Local\\Programs\\Python\\Python312\\Lib\\site-packages\\urllib3\\connectionpool.py:1099: InsecureRequestWarning: Unverified HTTPS request is being made to host '10.10.20.48'. Adding certificate verification is strongly advised. See: https://urllib3.readthedocs.io/en/latest/advanced-usage.html#tls-warnings\n",
      "  warnings.warn(\n"
     ]
    }
   ],
   "source": [
    "response = requests.get(url, auth=('developer', 'C1sco12345'), headers=headers, verify=False)"
   ]
  },
  {
   "cell_type": "markdown",
   "metadata": {},
   "source": [
    "### Step 4: And here we can see the data we requested in the JSON format"
   ]
  },
  {
   "cell_type": "code",
   "execution_count": 96,
   "metadata": {},
   "outputs": [
    {
     "name": "stdout",
     "output_type": "stream",
     "text": [
      "{\n",
      "  \"ietf-interfaces:interface\": [\n",
      "    {\n",
      "      \"name\": \"GigabitEthernet1\",\n",
      "      \"description\": \"MANAGEMENT INTERFACE - DON'T TOUCH ME\",\n",
      "      \"type\": \"iana-if-type:ethernetCsmacd\",\n",
      "      \"enabled\": true,\n",
      "      \"ietf-ip:ipv4\": {\n",
      "        \"address\": [\n",
      "          {\n",
      "            \"ip\": \"10.10.20.48\",\n",
      "            \"netmask\": \"255.255.255.0\"\n",
      "          }\n",
      "        ]\n",
      "      },\n",
      "      \"ietf-ip:ipv6\": {\n",
      "      }\n",
      "    },\n",
      "    {\n",
      "      \"name\": \"GigabitEthernet2\",\n",
      "      \"description\": \"Network Interface\",\n",
      "      \"type\": \"iana-if-type:ethernetCsmacd\",\n",
      "      \"enabled\": true,\n",
      "      \"ietf-ip:ipv4\": {\n",
      "        \"address\": [\n",
      "          {\n",
      "            \"ip\": \"10.30.30.10\",\n",
      "            \"netmask\": \"255.255.255.0\"\n",
      "          }\n",
      "        ]\n",
      "      },\n",
      "      \"ietf-ip:ipv6\": {\n",
      "      }\n",
      "    },\n",
      "    {\n",
      "      \"name\": \"GigabitEthernet3\",\n",
      "      \"description\": \"Network Interface\",\n",
      "      \"type\": \"iana-if-type:ethernetCsmacd\",\n",
      "      \"enabled\": false,\n",
      "      \"ietf-ip:ipv4\": {\n",
      "      },\n",
      "      \"ietf-ip:ipv6\": {\n",
      "      }\n",
      "    },\n",
      "    {\n",
      "      \"name\": \"Loopback0\",\n",
      "      \"type\": \"iana-if-type:softwareLoopback\",\n",
      "      \"enabled\": true,\n",
      "      \"ietf-ip:ipv4\": {\n",
      "        \"address\": [\n",
      "          {\n",
      "            \"ip\": \"10.0.0.1\",\n",
      "            \"netmask\": \"255.255.255.0\"\n",
      "          }\n",
      "        ]\n",
      "      },\n",
      "      \"ietf-ip:ipv6\": {\n",
      "      }\n",
      "    },\n",
      "    {\n",
      "      \"name\": \"Loopback10\",\n",
      "      \"type\": \"iana-if-type:softwareLoopback\",\n",
      "      \"enabled\": true,\n",
      "      \"ietf-ip:ipv4\": {\n",
      "      },\n",
      "      \"ietf-ip:ipv6\": {\n",
      "      }\n",
      "    },\n",
      "    {\n",
      "      \"name\": \"Loopback109\",\n",
      "      \"description\": \"Configured by RESTCONF ga jadi\",\n",
      "      \"type\": \"iana-if-type:softwareLoopback\",\n",
      "      \"enabled\": true,\n",
      "      \"ietf-ip:ipv4\": {\n",
      "        \"address\": [\n",
      "          {\n",
      "            \"ip\": \"10.255.255.9\",\n",
      "            \"netmask\": \"255.255.255.0\"\n",
      "          }\n",
      "        ]\n",
      "      },\n",
      "      \"ietf-ip:ipv6\": {\n",
      "      }\n",
      "    },\n",
      "    {\n",
      "      \"name\": \"VirtualPortGroup0\",\n",
      "      \"type\": \"iana-if-type:propVirtual\",\n",
      "      \"enabled\": true,\n",
      "      \"ietf-ip:ipv4\": {\n",
      "        \"address\": [\n",
      "          {\n",
      "            \"ip\": \"192.168.1.1\",\n",
      "            \"netmask\": \"255.255.255.0\"\n",
      "          }\n",
      "        ]\n",
      "      },\n",
      "      \"ietf-ip:ipv6\": {\n",
      "      }\n",
      "    }\n",
      "  ]\n",
      "}\n",
      "\n"
     ]
    }
   ],
   "source": [
    "print(response.text)"
   ]
  }
 ],
 "metadata": {
  "kernelspec": {
   "display_name": "Python 3",
   "language": "python",
   "name": "python3"
  },
  "language_info": {
   "codemirror_mode": {
    "name": "ipython",
    "version": 3
   },
   "file_extension": ".py",
   "mimetype": "text/x-python",
   "name": "python",
   "nbconvert_exporter": "python",
   "pygments_lexer": "ipython3",
   "version": "3.12.1"
  }
 },
 "nbformat": 4,
 "nbformat_minor": 2
}
